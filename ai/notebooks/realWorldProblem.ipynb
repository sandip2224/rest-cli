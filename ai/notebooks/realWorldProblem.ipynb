{
 "cells": [
  {
   "cell_type": "code",
   "execution_count": null,
   "metadata": {},
   "outputs": [],
   "source": [
    "# Travelling Salesman Problem\n",
    "\n",
    "\n",
    "ans = []\n",
    "\n",
    "\n",
    "def tsp(graph, visited, curr, n, count, cost):\n",
    "    if count == n and graph[curr][0]:\n",
    "        ans.append(cost+graph[curr][0])\n",
    "    for i in range(n):\n",
    "        if visited[i] == False and graph[curr][i]:\n",
    "            visited[i] = True\n",
    "            tsp(graph, visited, i, n, count+1, cost+graph[curr][i])\n",
    "            visited[i] = False\n",
    "\n",
    "\n",
    "n = 4\n",
    "graph = [\n",
    "    [0, 10, 15, 20],\n",
    "    [10, 0, 35, 25],\n",
    "    [15, 35, 0, 30],\n",
    "    [20, 25, 30, 0]\n",
    "]\n",
    "\n",
    "vis = [False for i in range(n)]\n",
    "vis[0] = True\n",
    "tsp(graph, vis, 0, n, 1, 0)\n",
    "print(min(ans))\n"
   ]
  }
 ],
 "metadata": {
  "language_info": {
   "name": "python"
  },
  "orig_nbformat": 4
 },
 "nbformat": 4,
 "nbformat_minor": 2
}
