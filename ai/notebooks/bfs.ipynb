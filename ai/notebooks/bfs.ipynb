{
 "cells": [
  {
   "cell_type": "code",
   "execution_count": null,
   "metadata": {},
   "outputs": [],
   "source": [
    "import collections\n",
    "\n",
    "\n",
    "def bfs(graph, root):\n",
    "    visited = set()\n",
    "    q = collections.deque([root])\n",
    "\n",
    "    while q:\n",
    "        node = q.popleft()\n",
    "        visited.add(node)\n",
    "        for i in graph[node]:\n",
    "            if i not in visited:\n",
    "                q.append(i)\n",
    "    print(visited)\n",
    "\n",
    "\n",
    "if __name__ == '__main__':\n",
    "    graph = {\n",
    "        0: [1, 2, 3],\n",
    "        1: [0, 2],\n",
    "        2: [0, 1, 4],\n",
    "        3: [0],\n",
    "        4: [2]\n",
    "    }\n",
    "\n",
    "    bfs(graph, 0)\n"
   ]
  }
 ],
 "metadata": {
  "language_info": {
   "name": "python"
  },
  "orig_nbformat": 4
 },
 "nbformat": 4,
 "nbformat_minor": 2
}
