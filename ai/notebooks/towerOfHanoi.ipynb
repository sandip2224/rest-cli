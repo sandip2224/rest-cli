{
 "cells": [
  {
   "cell_type": "code",
   "execution_count": null,
   "metadata": {},
   "outputs": [],
   "source": [
    "def towerOfHanoi(n, src, dest, aux):\n",
    "    if n == 0:\n",
    "        return\n",
    "    towerOfHanoi(n-1, src, aux, dest)\n",
    "    print('Moving disk ', n, 'from', src, '->', dest)\n",
    "    towerOfHanoi(n-1, aux, dest, src)\n",
    "\n",
    "\n",
    "n = 3\n",
    "towerOfHanoi(n, 'A', 'C', 'B')"
   ]
  }
 ],
 "metadata": {
  "language_info": {
   "name": "python"
  },
  "orig_nbformat": 4
 },
 "nbformat": 4,
 "nbformat_minor": 2
}
