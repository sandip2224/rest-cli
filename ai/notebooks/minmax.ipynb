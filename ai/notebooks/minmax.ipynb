{
 "cells": [
  {
   "cell_type": "code",
   "execution_count": null,
   "metadata": {},
   "outputs": [],
   "source": [
    "# Backtracking algo\n",
    "# TC: O(b^d), b is branching factor, d is depth of recursion\n",
    "# Used to solve game playing strategies like TicTacToe\n",
    "\n",
    "import math\n",
    "\n",
    "\n",
    "def MinMax(curr, i, maxTurn, scores, target):\n",
    "    if curr == target:\n",
    "        return scores[i]\n",
    "\n",
    "    if maxTurn:\n",
    "        return max(MinMax(curr+1, i*2, False, scores, target), MinMax(curr+1, i*2 + 1, False, scores, target))\n",
    "    else:\n",
    "        return min(MinMax(curr+1, i*2, True, scores, target), MinMax(curr+1, i*2 + 1, True, scores, target))\n",
    "\n",
    "\n",
    "scores = [-1, 8, -1, -3, 1, 2, -3, 4]\n",
    "depth = math.log(len(scores), 2)\n",
    "print('The optimal value = ', MinMax(0, 0, True, scores, depth))\n"
   ]
  }
 ],
 "metadata": {
  "language_info": {
   "name": "python"
  },
  "orig_nbformat": 4
 },
 "nbformat": 4,
 "nbformat_minor": 2
}
