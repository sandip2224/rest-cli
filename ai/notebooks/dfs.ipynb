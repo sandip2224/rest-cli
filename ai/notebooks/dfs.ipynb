{
 "cells": [
  {
   "cell_type": "code",
   "execution_count": null,
   "metadata": {},
   "outputs": [],
   "source": [
    "import collections\n",
    "visited = set()\n",
    "\n",
    "\n",
    "def dfs(visited, graph, root):\n",
    "    if root not in visited:\n",
    "        print(root)\n",
    "        visited.add(root)\n",
    "        for i in graph[root]:\n",
    "            dfs(visited, graph, i)\n",
    "\n",
    "\n",
    "if __name__ == '__main__':\n",
    "    graph = {\n",
    "        0: [1, 2, 3],\n",
    "        1: [0, 2],\n",
    "        2: [0, 1, 4],\n",
    "        3: [0],\n",
    "        4: [2]\n",
    "    }\n",
    "\n",
    "    dfs(visited, graph, 0)\n"
   ]
  }
 ],
 "metadata": {
  "language_info": {
   "name": "python"
  },
  "orig_nbformat": 4
 },
 "nbformat": 4,
 "nbformat_minor": 2
}
