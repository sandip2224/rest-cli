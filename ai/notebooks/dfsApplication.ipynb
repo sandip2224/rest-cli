{
 "cells": [
  {
   "cell_type": "code",
   "execution_count": null,
   "metadata": {},
   "outputs": [],
   "source": [
    "from collections import defaultdict\n",
    "\n",
    "\n",
    "class Graph:\n",
    "    def __init__(self, vertices):\n",
    "        self.V = vertices  # No. of vertices\n",
    "        # Default dictionary to store graph\n",
    "        self.graph = defaultdict(list)\n",
    "\n",
    "    def addEdge(self, v, w):\n",
    "        self.graph[v].append(w)\n",
    "        self.graph[w].append(v)\n",
    "\n",
    "    def isCyclicUtil(self, v, visited, parent):\n",
    "        visited[v] = True\n",
    "        for i in self.graph[v]:\n",
    "            if visited[i] == False:\n",
    "                if(self.isCyclicUtil(i, visited, v)):\n",
    "                    return True\n",
    "            elif parent != i:\n",
    "                return True\n",
    "        return False\n",
    "\n",
    "    def isCyclic(self):\n",
    "        visited = [False]*(self.V)\n",
    "        for i in range(self.V):\n",
    "            if visited[i] == False:\n",
    "                if(self.isCyclicUtil(i, visited, -1)) == True:\n",
    "                    return True\n",
    "        return False\n",
    "\n",
    "\n",
    "g = Graph(5)\n",
    "g.addEdge(1, 0)\n",
    "g.addEdge(1, 2)\n",
    "g.addEdge(2, 0)\n",
    "g.addEdge(0, 3)\n",
    "g.addEdge(3, 4)\n",
    "\n",
    "if g.isCyclic():\n",
    "    print(\"Graph contains cycle\")\n",
    "else:\n",
    "    print(\"Graph does not contain cycle\")\n"
   ]
  }
 ],
 "metadata": {
  "language_info": {
   "name": "python"
  },
  "orig_nbformat": 4
 },
 "nbformat": 4,
 "nbformat_minor": 2
}
