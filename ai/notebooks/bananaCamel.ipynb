{
 "cells": [
  {
   "cell_type": "code",
   "execution_count": null,
   "metadata": {},
   "outputs": [],
   "source": [
    "total = int(input('No. of bananas : '))\n",
    "distance = int(input('Distance to be travelled : '))\n",
    "load_capacity = int(input('Max load capacity of your camel : '))\n",
    "lose = 0\n",
    "start = total\n",
    "for i in range(distance):\n",
    "    while start > 0:\n",
    "        start = start-load_capacity\n",
    "        if start == 1:\n",
    "            lose = lose-1\n",
    "        lose = lose+2\n",
    "    lose = lose-1\n",
    "    start = total-lose\n",
    "    if start == 0:\n",
    "        break\n",
    "print(start)"
   ]
  }
 ],
 "metadata": {
  "language_info": {
   "name": "python"
  },
  "orig_nbformat": 4
 },
 "nbformat": 4,
 "nbformat_minor": 2
}
